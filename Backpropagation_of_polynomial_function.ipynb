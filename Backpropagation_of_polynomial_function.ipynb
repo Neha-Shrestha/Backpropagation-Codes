{
  "nbformat": 4,
  "nbformat_minor": 0,
  "metadata": {
    "colab": {
      "provenance": []
    },
    "kernelspec": {
      "name": "python3",
      "display_name": "Python 3"
    },
    "language_info": {
      "name": "python"
    }
  },
  "cells": [
    {
      "cell_type": "code",
      "source": [
        "import numpy as np\n",
        "import matplotlib.pyplot as plt"
      ],
      "metadata": {
        "id": "PZi7I0yc_NIg"
      },
      "execution_count": 1,
      "outputs": []
    },
    {
      "cell_type": "code",
      "source": [
        "class SimpleNN:\n",
        "    def __init__(self, input_size, hidden_size, output_size):\n",
        "        self.W1 = np.random.randn(input_size, hidden_size)\n",
        "        self.W2 = np.random.randn(hidden_size, output_size)\n",
        "\n",
        "    def sigmoid(self, x):\n",
        "        # https://en.wikipedia.org/wiki/Sigmoid_function\n",
        "        return 1 / (1 + np.exp(-x))\n",
        "\n",
        "    def sigmoid_prime(self, x):\n",
        "        # https://www.geeksforgeeks.org/derivative-of-the-sigmoid-function/\n",
        "        return self.sigmoid(x) * (1 - self.sigmoid(x))\n",
        "\n",
        "    def forward(self, X):\n",
        "        self.z = np.dot(X, self.W1)\n",
        "        self.a = self.sigmoid(self.z)\n",
        "        self.output = np.dot(self.a, self.W2)\n",
        "        return self.output\n",
        "\n",
        "    def backward(self, X, y, output):\n",
        "        self.output_error = output - y\n",
        "        self.output_delta = self.output_error\n",
        "        self.z_error = np.dot(self.output_delta, self.W2.T)\n",
        "        self.z_delta = self.z_error * self.sigmoid_prime(self.z)\n",
        "        self.W1 -= np.dot(X.T, self.z_delta)\n",
        "        self.W2 -= np.dot(self.a.T, self.output_delta)\n",
        "\n",
        "    def train(self, X, y, epochs):\n",
        "        for _ in range(epochs):\n",
        "            output = self.forward(X)\n",
        "            self.backward(X, y, output)\n",
        ""
      ],
      "metadata": {
        "id": "SXPAq6Gc_Wbv"
      },
      "execution_count": 2,
      "outputs": []
    },
    {
      "cell_type": "code",
      "source": [
        "def polynomial(x):\n",
        "    # 4th order polynomial\n",
        "    return x**4 - 4*x**3 + 4*x**2 - 4*x + 1"
      ],
      "metadata": {
        "id": "izdAyDND_cPB"
      },
      "execution_count": 3,
      "outputs": []
    },
    {
      "cell_type": "code",
      "source": [
        "def dpolynomial(x):\n",
        "    # Derivative of the polynomial\n",
        "    return 4*x**3 - 12*x**2 + 8*x - 4"
      ],
      "metadata": {
        "id": "1e5OtsRN_iSU"
      },
      "execution_count": 4,
      "outputs": []
    },
    {
      "cell_type": "code",
      "source": [
        "def gradient_descent(f, df, x0, learning_rate, num_iterations):\n",
        "    x = x0\n",
        "    for _ in range(num_iterations):\n",
        "        x = x - learning_rate * df(x)\n",
        "    return x\n"
      ],
      "metadata": {
        "id": "TaN2tcba_eYP"
      },
      "execution_count": 5,
      "outputs": []
    },
    {
      "cell_type": "code",
      "source": [
        "def main():\n",
        "    nn = SimpleNN(2, 3, 1)\n",
        "    X = np.array([[0, 0], [0, 1], [1, 0], [1, 1]])\n",
        "    y = np.array([[0], [1], [1], [0]])\n",
        "    nn.train(X, y, 1000)\n",
        "\n",
        "    x0 = 0\n",
        "    min_x = gradient_descent(polynomial, dpolynomial, x0, 0.01, 1000)\n",
        "    print(f\"Minimum of polynomial found at x = {min_x}\")\n",
        "\n",
        "    x = np.linspace(-1, 3, 100)\n",
        "    y = polynomial(x)\n",
        "    plt.plot(x, y)\n",
        "    plt.plot(min_x, polynomial(min_x), 'ro')\n",
        "    plt.title(\"4th Order Polynomial\")\n",
        "    plt.show()"
      ],
      "metadata": {
        "id": "pGyiR9-2mcvB"
      },
      "execution_count": 6,
      "outputs": []
    },
    {
      "cell_type": "code",
      "source": [
        "if __name__ == \"__main__\":\n",
        "    main()"
      ],
      "metadata": {
        "colab": {
          "base_uri": "https://localhost:8080/",
          "height": 470
        },
        "id": "Rc4eMGOYmiL9",
        "outputId": "fcd19ef3-0d8a-4035-dfef-120f6b736bd0"
      },
      "execution_count": 7,
      "outputs": [
        {
          "output_type": "stream",
          "name": "stdout",
          "text": [
            "Minimum of polynomial found at x = 2.3247179572447445\n"
          ]
        },
        {
          "output_type": "display_data",
          "data": {
            "text/plain": [
              "<Figure size 640x480 with 1 Axes>"
            ],
            "image/png": "[encoded data removed]"
          },
          "metadata": {}
        }
      ]
    },
    {
      "cell_type": "code",
      "source": [],
      "metadata": {
        "id": "2lshJYtSqmyX"
      },
      "execution_count": null,
      "outputs": []
    }
  ]
}